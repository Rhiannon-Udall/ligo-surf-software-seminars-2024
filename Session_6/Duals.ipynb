{
 "cells": [
  {
   "cell_type": "markdown",
   "id": "30225f3d-8a41-4b9d-9ffa-0b7675d08402",
   "metadata": {},
   "source": [
    "A very simple, incomplete implementation of Dual numbers in python"
   ]
  },
  {
   "cell_type": "code",
   "execution_count": 1,
   "id": "a7121789-57b0-4a1a-b07b-025882d35bac",
   "metadata": {},
   "outputs": [],
   "source": [
    "class Dual:\n",
    "    def __init__(self, primal,tangent):\n",
    "        self.primal = primal\n",
    "        self.tangent = tangent\n",
    "        \n",
    "    def __add__(self,other):\n",
    "        primal = self.primal + other.primal\n",
    "        tangent = self.tangent + other.tangent\n",
    "        return Dual(primal, tangent)\n",
    "    \n",
    "    def __mul__(self, other):\n",
    "        primal = self.primal * other.primal\n",
    "        tangent = self.primal * other.tangent + \\\n",
    "                  self.tangent * other.primal\n",
    "        return Dual(primal, tangent)\n",
    "\n",
    "    def __repr__(self):\n",
    "        return f\"{self.primal} + {self.tangent}ϵ\""
   ]
  },
  {
   "cell_type": "code",
   "execution_count": 2,
   "id": "6313bf61-76b3-4a08-88f8-5f1240c293dd",
   "metadata": {},
   "outputs": [],
   "source": [
    "def f(x):\n",
    "    y = x * x\n",
    "    z = y + y + y\n",
    "    return z"
   ]
  },
  {
   "cell_type": "code",
   "execution_count": 7,
   "id": "a0e4be84-1368-4b88-9508-6c3cd3ed58ea",
   "metadata": {},
   "outputs": [
    {
     "data": {
      "text/plain": [
       "27"
      ]
     },
     "execution_count": 7,
     "metadata": {},
     "output_type": "execute_result"
    }
   ],
   "source": [
    "# Standard evaluation\n",
    "f(3)"
   ]
  },
  {
   "cell_type": "code",
   "execution_count": 8,
   "id": "1c16ecc7-f120-4cf8-b1fa-696116eb9e7f",
   "metadata": {},
   "outputs": [
    {
     "data": {
      "text/plain": [
       "27 + 18ϵ"
      ]
     },
     "execution_count": 8,
     "metadata": {},
     "output_type": "execute_result"
    }
   ],
   "source": [
    "# Dual evaluation\n",
    "f(Dual(3,1))"
   ]
  },
  {
   "cell_type": "code",
   "execution_count": 9,
   "id": "a53f8eff-2c3d-4bff-995b-9a440ef3320d",
   "metadata": {},
   "outputs": [
    {
     "data": {
      "text/plain": [
       "0 + 0ϵ"
      ]
     },
     "execution_count": 9,
     "metadata": {},
     "output_type": "execute_result"
    }
   ],
   "source": [
    "# Proof of the epsilon^2 = 0 identity\n",
    "Dual(0,1) * Dual(0,1)"
   ]
  },
  {
   "cell_type": "code",
   "execution_count": 11,
   "id": "ea2e63a4-ecc6-4064-829e-739f4c446040",
   "metadata": {},
   "outputs": [
    {
     "data": {
      "text/plain": [
       "0 + 0ϵ"
      ]
     },
     "execution_count": 11,
     "metadata": {},
     "output_type": "execute_result"
    }
   ],
   "source": [
    "# Emergent behavior of the chain rule\n",
    "# It's fun to work this one out with algebra\n",
    "f(f(Dual(0,1)))"
   ]
  },
  {
   "cell_type": "markdown",
   "id": "ddfedc70-2292-4cde-ae62-50354ee1bde5",
   "metadata": {},
   "source": [
    "Try modifying this class to deal with promotion between numbers and duals to support this function (same as before)"
   ]
  },
  {
   "cell_type": "code",
   "execution_count": 14,
   "id": "8c93574b-d65e-4ce8-9931-02990bc6fed4",
   "metadata": {},
   "outputs": [],
   "source": [
    "def f2(x):\n",
    "    y = x**2\n",
    "    z = 3*y\n",
    "    return z"
   ]
  },
  {
   "cell_type": "code",
   "execution_count": 15,
   "id": "e0c12890-31d0-42a0-9959-5caf15e674d4",
   "metadata": {},
   "outputs": [
    {
     "ename": "TypeError",
     "evalue": "unsupported operand type(s) for ** or pow(): 'Dual' and 'int'",
     "output_type": "error",
     "traceback": [
      "\u001b[0;31m---------------------------------------------------------------------------\u001b[0m",
      "\u001b[0;31mTypeError\u001b[0m                                 Traceback (most recent call last)",
      "Cell \u001b[0;32mIn[15], line 1\u001b[0m\n\u001b[0;32m----> 1\u001b[0m \u001b[43mf2\u001b[49m\u001b[43m(\u001b[49m\u001b[43mDual\u001b[49m\u001b[43m(\u001b[49m\u001b[38;5;241;43m3\u001b[39;49m\u001b[43m,\u001b[49m\u001b[38;5;241;43m1\u001b[39;49m\u001b[43m)\u001b[49m\u001b[43m)\u001b[49m\n",
      "Cell \u001b[0;32mIn[14], line 2\u001b[0m, in \u001b[0;36mf2\u001b[0;34m(x)\u001b[0m\n\u001b[1;32m      1\u001b[0m \u001b[38;5;28;01mdef\u001b[39;00m \u001b[38;5;21mf2\u001b[39m(x):\n\u001b[0;32m----> 2\u001b[0m     y \u001b[38;5;241m=\u001b[39m \u001b[43mx\u001b[49m\u001b[38;5;241;43m*\u001b[39;49m\u001b[38;5;241;43m*\u001b[39;49m\u001b[38;5;241;43m2\u001b[39;49m\n\u001b[1;32m      3\u001b[0m     z \u001b[38;5;241m=\u001b[39m \u001b[38;5;241m3\u001b[39m\u001b[38;5;241m*\u001b[39my\n\u001b[1;32m      4\u001b[0m     \u001b[38;5;28;01mreturn\u001b[39;00m z\n",
      "\u001b[0;31mTypeError\u001b[0m: unsupported operand type(s) for ** or pow(): 'Dual' and 'int'"
     ]
    }
   ],
   "source": [
    "f2(Dual(3,1))"
   ]
  }
 ],
 "metadata": {
  "kernelspec": {
   "display_name": "Python 3 (ipykernel)",
   "language": "python",
   "name": "python3"
  },
  "language_info": {
   "codemirror_mode": {
    "name": "ipython",
    "version": 3
   },
   "file_extension": ".py",
   "mimetype": "text/x-python",
   "name": "python",
   "nbconvert_exporter": "python",
   "pygments_lexer": "ipython3",
   "version": "3.12.4"
  }
 },
 "nbformat": 4,
 "nbformat_minor": 5
}
